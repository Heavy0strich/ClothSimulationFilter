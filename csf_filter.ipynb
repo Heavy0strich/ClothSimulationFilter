{
 "cells": [
  {
   "cell_type": "code",
   "execution_count": null,
   "metadata": {},
   "outputs": [],
   "source": [
    "import os\n",
    "import sys\n",
    "sys.path.append('C:\\\\Users\\\\tiwar\\\\Desktop\\\\Project\\\\ACL_Thesis\\\\Thesis\\\\point_cloud_filtering\\\\Utilities')\n",
    "\n",
    "import open3d as o3d\n",
    "from Utilities import csf, cloth, particle, rasterization, point_cloud\n",
    "import numpy as np\n",
    "import matplotlib.pyplot as plt"
   ]
  },
  {
   "cell_type": "code",
   "execution_count": null,
   "metadata": {},
   "outputs": [],
   "source": [
    "wd = os.getcwd()\n",
    "print(\"working directory\", wd)\n",
    "dataset_dir = wd + '\\..\\..\\Datasets\\marketplacefeldkirch_station4_intensity_rgb\\marketplacefeldkirch_station4_intensity_rgb.txt'      # WINDOWS\n",
    "print(\">>>>>>>> DATA set directory.....\\n\", dataset_dir)"
   ]
  },
  {
   "cell_type": "code",
   "execution_count": null,
   "metadata": {},
   "outputs": [],
   "source": [
    "# Visualizing the input point cloud\n",
    "data = point_cloud.point_cloud_formatting(dataset_dir)\n",
    "pcd_points = point_cloud.point_cloud_data(data.o3d_format_from_file())\n",
    "\n",
    "\n",
    "# fig = plt.figure(figsize=(10, 10))\n",
    "# ax = fig.add_subplot(projection='3d')\n",
    "\n",
    "# ax.scatter(pcd_points[:, 0], pcd_points[:, 1], pcd_points[:, 2], marker = '.')\n",
    "# plt.show()"
   ]
  },
  {
   "cell_type": "code",
   "execution_count": null,
   "metadata": {},
   "outputs": [],
   "source": [
    "# Visualizing the pcd in o3d\n",
    "o3d.visualization.draw_geometries([pcd_points.pcd])"
   ]
  },
  {
   "cell_type": "code",
   "execution_count": null,
   "metadata": {},
   "outputs": [],
   "source": [
    "# Inverting Point Cloud\n",
    "inverted_pcd =  point_cloud.point_cloud_data(pcd_points.invert_point_cloud())\n",
    "#o3d.visualization.draw_geometries([inverted_pcd.pcd])"
   ]
  },
  {
   "cell_type": "code",
   "execution_count": null,
   "metadata": {},
   "outputs": [],
   "source": [
    "# Initilizing the CSF parameters\n",
    "csf_params = csf.CSF_PARAMS(False, 0.1, 0.5, 0.5, 2.5, 1000, 0.5)\n",
    "\n",
    "csf_filter = csf.CSF(csf_params)\n",
    "\n",
    "cl = csf_filter.do_filtering(inverted_pcd.pcd, inverted_pcd.get_bounding_XY(), True)\n",
    "\n",
    "print(\">>>>>>>>> Filtering Completed.....\")   "
   ]
  },
  {
   "cell_type": "code",
   "execution_count": null,
   "metadata": {},
   "outputs": [],
   "source": [
    "ground_pcd = o3d.geometry.PointCloud()\n",
    "ground_pcd = inverted_pcd.pcd.select_by_index(csf_filter.ground_points)\n",
    "ground_pcd.paint_uniform_color([1, 0, 0])"
   ]
  },
  {
   "cell_type": "code",
   "execution_count": null,
   "metadata": {},
   "outputs": [],
   "source": [
    "non_ground_pcd = o3d.geometry.PointCloud()\n",
    "non_ground_pcd = inverted_pcd.pcd.select_by_index(csf_filter.non_ground_points)\n",
    "non_ground_pcd.paint_uniform_color([0, 0, 0])"
   ]
  },
  {
   "cell_type": "code",
   "execution_count": null,
   "metadata": {},
   "outputs": [],
   "source": [
    "o3d.visualization.draw_geometries([non_ground_pcd])"
   ]
  },
  {
   "cell_type": "code",
   "execution_count": null,
   "metadata": {},
   "outputs": [],
   "source": [
    "cloth_pcd_list = []\n",
    "num_particles = len(cl.cloth_parameters.particles)\n",
    "for i in range(num_particles):\n",
    "    cloth_pcd_list.append(cl.cloth_parameters.particles[i].get_position())\n",
    "\n",
    "cloth_data = point_cloud.point_cloud_formatting(None)\n",
    "cloth_data.downsample = False\n",
    "cloth_pcd = cloth_data.o3d_format_from_array(np.asarray(cloth_pcd_list))\n",
    "cloth_pcd.paint_uniform_color([0.6, 0.6, 0.6])\n",
    "\n",
    "o3d.visualization.draw_geometries([cloth_pcd, inverted_pcd.pcd])"
   ]
  },
  {
   "cell_type": "code",
   "execution_count": null,
   "metadata": {},
   "outputs": [],
   "source": [
    "o3d.visualization.draw_geometries([cloth_pcd, non_ground_pcd])"
   ]
  },
  {
   "cell_type": "code",
   "execution_count": null,
   "metadata": {},
   "outputs": [],
   "source": [
    "# Heat Map\n",
    "x = np.asarray(non_ground_pcd.points)[:1000, 0]\n",
    "y = np.asarray(non_ground_pcd.points)[:1000, 1]\n",
    "z = np.reshape(np.asarray(non_ground_pcd.points)[:1000, 2], (-1, 1))\n",
    "\n",
    "\n",
    "\n",
    "plt.figure(figsize=(10, 10))\n",
    "plt.contour(x, y, z, 20, cmap='RdGy')\n",
    "plt.imshow(data, cmap='hot', interpolation='nearest')\n",
    "plt.title( \"Heatmap Sample (Syeilendra ITB)\", fontsize=15 )\n",
    "plt.xlabel(\"X Label\", fontsize=10)\n",
    "plt.ylabel(\"Y Label\", fontsize=10)\n",
    "plt.colorbar()\n",
    "plt.show()\n",
    "\n",
    "#pcd_2d = np.asarray(non_ground_pcd.points)[:, :2]\n",
    "#plt.plot(pcd_2d[:, 0], pcd_2d[:, 1], '.', markersize = 0.1)"
   ]
  },
  {
   "cell_type": "code",
   "execution_count": null,
   "metadata": {},
   "outputs": [],
   "source": [
    "from sklearn.cluster import DBSCAN\n",
    "\n",
    "db = DBSCAN(eps=0.1, min_samples=10).fit(pcd_2d)\n",
    "labels = db.labels_\n",
    "n_clusters = len(set(labels)) - (1 if -1 in labels else 0)\n",
    "print(\"Estimated number of clusters: %d\" % n_clusters)\n",
    "\n",
    "unique_labels = set(labels)\n",
    "  "
   ]
  },
  {
   "cell_type": "code",
   "execution_count": null,
   "metadata": {},
   "outputs": [],
   "source": [
    "from scipy.spatial import ConvexHull\n",
    "hull = ConvexHull(pcd_2d)\n",
    "for simplex in hull.simplices:\n",
    "    plt.plot(pcd_2d[simplex, 0], pcd_2d[simplex, 1], 'k-')\n",
    "#plt.plot(pcd_2d[hull.simplices,0], pcd_2d[hull.simplices,1], 'r--', lw=2)\n",
    "#plt.plot(1.05 * pcd_2d[hull.vertices,0], 1.05 * pcd_2d[hull.vertices,1], 'r--', lw=2)"
   ]
  },
  {
   "cell_type": "code",
   "execution_count": null,
   "metadata": {},
   "outputs": [],
   "source": []
  },
  {
   "cell_type": "code",
   "execution_count": null,
   "metadata": {},
   "outputs": [],
   "source": [
    "cloth_pcd.paint_uniform_color([0.6, 0.6, 0.6])\n",
    "cloth_mesh = o3d.geometry.TriangleMesh.create_from_point_cloud_alpha_shape(cloth_pcd, 0.1)\n",
    "\n",
    "o3d.visualization.draw_geometries([cloth_mesh, inverted_pcd.pcd])"
   ]
  },
  {
   "cell_type": "code",
   "execution_count": null,
   "metadata": {},
   "outputs": [],
   "source": [
    "np.asarray(cloth_pcd.points)"
   ]
  },
  {
   "cell_type": "code",
   "execution_count": null,
   "metadata": {},
   "outputs": [],
   "source": [
    "# Comparing distance threshold\n",
    "dist = pcd_inverted.compute_point_cloud_distance(cloth_pcd)\n",
    "dist = np.asarray(dist)\n",
    "ind  = np.where(dist > csf_params.height_threshold)[0]\n",
    "\n",
    "non_ground = pcd_points.select_by_index(ind)\n",
    "non_ground.paint_uniform_color([0.6, 0.6, 0.6])\n",
    "ground = pcd_points.select_by_index(ind, invert=True)\n",
    "ground.paint_uniform_color([0, 0, 0])\n",
    "o3d.visualization.draw_geometries([non_ground])"
   ]
  },
  {
   "cell_type": "code",
   "execution_count": null,
   "metadata": {},
   "outputs": [],
   "source": [
    "\n",
    "nearest_pc_points_id = []\n",
    "for i in range(num_particles):\n",
    "    nearest_pc_points_id.append(cl.cloth_parameters.particles[i].nearest_point_index)\n",
    "\n",
    "ground_id = []\n",
    "[ground_id.extend(x) for x in nearest_pc_points_id if (x != [] and x not in ground_id)]"
   ]
  }
 ],
 "metadata": {
  "kernelspec": {
   "display_name": "vision",
   "language": "python",
   "name": "python3"
  },
  "language_info": {
   "codemirror_mode": {
    "name": "ipython",
    "version": 3
   },
   "file_extension": ".py",
   "mimetype": "text/x-python",
   "name": "python",
   "nbconvert_exporter": "python",
   "pygments_lexer": "ipython3",
   "version": "3.10.9"
  },
  "orig_nbformat": 4
 },
 "nbformat": 4,
 "nbformat_minor": 2
}

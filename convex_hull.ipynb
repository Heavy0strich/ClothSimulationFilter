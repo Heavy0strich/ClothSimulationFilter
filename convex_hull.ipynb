{
 "cells": [
  {
   "cell_type": "code",
   "execution_count": 1,
   "metadata": {},
   "outputs": [
    {
     "name": "stdout",
     "output_type": "stream",
     "text": [
      "Jupyter environment detected. Enabling Open3D WebVisualizer.\n",
      "[Open3D INFO] WebRTC GUI backend enabled.\n",
      "[Open3D INFO] WebRTCWindowSystem: HTTP handshake server disabled.\n",
      "working directory /home/aman/MikiMarkII/Thesis/point cloud\n",
      "/home/aman/MikiMarkII/Thesis/point cloud/../../Datasets/sg27_station5_intensity_rgb.txt\n"
     ]
    }
   ],
   "source": [
    "import numpy as np\n",
    "import os\n",
    "import open3d as o3d\n",
    "\n",
    "import matplotlib.pyplot as plt\n",
    "from scipy.stats import norm\n",
    "\n",
    "wd = os.getcwd()\n",
    "print(\"working directory\", wd)\n",
    "dataset_dir = wd + '/../../Datasets/sg27_station5_intensity_rgb.txt'\n",
    "print(dataset_dir)"
   ]
  },
  {
   "attachments": {},
   "cell_type": "markdown",
   "metadata": {},
   "source": [
    "pcd_combined = o3d.geometry.PointCloud()\n",
    "pcd_combined.points = o3d.utility.Vector3dVector(pcd)\n",
    "#o3d.visualization.draw_plotly([pcd_combined], point_sample_factor=0.2) # Draws in Notebook but looks bad\n",
    "o3d.visualization.draw_geometries([pcd_combined]) # Draws in separate window but looks good"
   ]
  },
  {
   "cell_type": "markdown",
   "metadata": {},
   "source": [
    "## Reading Point Cloud data"
   ]
  },
  {
   "cell_type": "code",
   "execution_count": 2,
   "metadata": {},
   "outputs": [],
   "source": [
    "class point_cloud():\n",
    "    def __init__(self):\n",
    "        # Removing the intensity column from the dataset\n",
    "        self.format = 3 # (x, y, z, r, g, b)\n",
    "\n",
    "    def o3d_format(self, arr):\n",
    "        pcd = np.zeros((np.shape(arr)[0], self.format))\n",
    "        colors = np.zeros((np.shape(arr)[0], self.format))\n",
    "        for i in range(self.format):\n",
    "            pcd[:, i] = arr[:, i] \n",
    "            colors[:, i] = arr[:, i+4] * 0.00392156862   # Converting pixel values to float [0, 1]\n",
    "        \n",
    "        #print('pcd from o3d', np.shape(pcd))\n",
    "        pcd_combined = o3d.geometry.PointCloud()\n",
    "        pcd_combined.points = o3d.utility.Vector3dVector(pcd)\n",
    "        #pcd_combined.colors = o3d.utility.Vector3dVector(colors)\n",
    "        \n",
    "        # Downsample Point cloud\n",
    "        down_pcd = pcd_combined.voxel_down_sample(voxel_size = 0.03)\n",
    "        return pcd_combined, down_pcd"
   ]
  },
  {
   "cell_type": "code",
   "execution_count": 3,
   "metadata": {},
   "outputs": [
    {
     "name": "stdout",
     "output_type": "stream",
     "text": [
      "Display point cloud Data(xyzIRGB) shape: (218272134, 7)\n"
     ]
    }
   ],
   "source": [
    "point_cloud_data = np.loadtxt(dataset_dir)\n",
    "\n",
    "pcd, pcd_down = point_cloud().o3d_format(point_cloud_data)\n",
    "\n",
    "print(\"Display point cloud Data(xyzIRGB) shape:\", np.shape(point_cloud_data))\n",
    "#print('pcd from o3d', pcd)\n",
    "\n",
    "# Visualising the point cloud\n",
    "\n",
    "o3d.visualization.draw_geometries([pcd_down])\n"
   ]
  },
  {
   "cell_type": "code",
   "execution_count": 4,
   "metadata": {},
   "outputs": [
    {
     "name": "stdout",
     "output_type": "stream",
     "text": [
      "Number of points in raw point cloud data: (218272134, 3)\n",
      "\n",
      "Number of points in down sampled point cloud: (10433625, 3)\n"
     ]
    }
   ],
   "source": [
    "print(\"Number of points in raw point cloud data:\", np.shape(pcd.points))\n",
    "print(\"\\nNumber of points in down sampled point cloud:\", np.shape(pcd_down.points))"
   ]
  },
  {
   "cell_type": "code",
   "execution_count": null,
   "metadata": {},
   "outputs": [],
   "source": [
    "# Determining the height axis\n",
    "z_idx = int(np.argmin(np.var(np.asarray(pcd_down.points), axis = 0)))\n",
    "print(f\"the height axis is:{z_idx}\")"
   ]
  },
  {
   "cell_type": "code",
   "execution_count": null,
   "metadata": {},
   "outputs": [],
   "source": [
    "# Plotting the distributions of coordinates in x, y and z axis\n",
    "x = np.asarray(pcd_down.points)[:, 0]\n",
    "y = np.asarray(pcd_down.points)[:, 1]\n",
    "z = np.asarray(pcd_down.points)[:, 2]\n",
    "\n",
    "x_axis = np.linspace(0, np.shape(pcd_down.points)[0],np.shape(pcd_down.points)[0])\n",
    "y_axis = np.linspace(0, np.shape(pcd_down.points)[0],np.shape(pcd_down.points)[0])\n",
    "z_axis = np.linspace(0, np.shape(pcd_down.points)[0],np.shape(pcd_down.points)[0])\n",
    "\n",
    "f,(ax_1, ax_2, ax_3) = plt.subplots(3, 1, figsize= (12, 12))\n",
    "ax_1.plot(x_axis, np.asarray(pcd_down.points)[:, 0])\n",
    "ax_2.plot(x_axis, np.asarray(pcd_down.points)[:, 1])\n",
    "ax_3.plot(x_axis, np.asarray(pcd_down.points)[:, 2])\n"
   ]
  },
  {
   "cell_type": "code",
   "execution_count": null,
   "metadata": {},
   "outputs": [],
   "source": [
    "var = np.var(np.asarray(pcd_down.points)[:, 2])\n",
    "mean = np.mean(np.asarray(pcd_down.points)[:, 2])\n",
    "std = np.std(np.asarray(pcd_down.points)[:, 2])\n",
    "\n",
    "print(np.shape(norm.pdf(np.asarray(pcd_down.points)[:, 2], mean, std)))\n",
    "print(f\"mean = {mean} \\nvariance = {var} \\nstandard Deviation: {std}\")"
   ]
  },
  {
   "cell_type": "code",
   "execution_count": null,
   "metadata": {},
   "outputs": [],
   "source": [
    "z_max = np.max(z)\n",
    "z_min = np.min(z)\n",
    "z_ = z/z_max\n",
    "print(z_max, z_min)\n",
    "print(np.max(z_))"
   ]
  },
  {
   "cell_type": "code",
   "execution_count": null,
   "metadata": {},
   "outputs": [],
   "source": [
    "# FFT on z data\n",
    "\n",
    "Z = np.fft.fft(z_)\n",
    "N = len(Z)\n",
    "n = np.arange(N)\n",
    "T = N\n",
    "\n",
    "freq = n/T\n",
    "\n",
    "plt.figure(figsize=(12, 6))\n",
    "plt.subplot(121)\n",
    "plt.stem(freq, np.abs(Z), 'b', \\\n",
    "    markerfmt=\" \", basefmt=\"-b\")\n",
    "plt.xlabel('Freq (Hz)')\n",
    "plt.ylabel('FFT Amplitude |X(freq)|')\n",
    "\n",
    "plt.subplot(122)\n",
    "plt.plot(z_axis, np.fft.ifft(Z), 'r')\n",
    "plt.xlabel('Time (s)')\n",
    "plt.ylabel('Amplitude')\n",
    "plt.tight_layout()\n",
    "plt.show()"
   ]
  },
  {
   "attachments": {},
   "cell_type": "markdown",
   "metadata": {},
   "source": [
    "## Point Cloud Segmentation\n",
    "We try to get rid of the planar features first(liked roads) so that we can work on finding clusters of the remaining objects like trees, cars, etc in the point cloud data.\n",
    "Here we first try to segment plane surfaces by using segment_plane api in OPEN3D library and use ransac method which takes 3 points and run iterations to find planar surface"
   ]
  },
  {
   "attachments": {},
   "cell_type": "markdown",
   "metadata": {},
   "source": [
    "### Method 2: Estimating Normal\n",
    "Estimate normals for small and large search radius and find the difference of normals to find the curvature property "
   ]
  },
  {
   "cell_type": "code",
   "execution_count": 5,
   "metadata": {},
   "outputs": [],
   "source": [
    "class Ground_Filter:\n",
    "    def __init__(self, pcd, search_radius_small, search_radius_large, normal_threshold, method = 'difference_of_normals'):\n",
    "        # Initializing Parameters of Difference of Normal class\n",
    "        self.pcd_small = o3d.geometry.PointCloud()\n",
    "        self.pcd_small.points = o3d.utility.Vector3dVector(np.asarray(pcd.points))  # estimating normals on small search radius\n",
    "\n",
    "        self.pcd_large = o3d.geometry.PointCloud()\n",
    "        self.pcd_large.points = o3d.utility.Vector3dVector(np.asarray(pcd.points))  # estimating normals on large search radius\n",
    "\n",
    "        self.search_radius_small = search_radius_small\n",
    "        self.search_radius_large = search_radius_large\n",
    "        self.normal_threshold = normal_threshold\n",
    "        self.method = method\n",
    "\n",
    "    def unit_vector(self, vector):\n",
    "        vec_uni = vector/np.linalg.norm(vector) \n",
    "        return vec_uni\n",
    "\n",
    "    def get_indices(self, normal):\n",
    "        entries = np.shape(normal)[0]\n",
    "        self.vertical_vector = np.array([[0, 0, 1]])        # unit vector perpendicular to xy plane\n",
    "        indices = []\n",
    "        \n",
    "        if self.method == 'difference_of_normals':\n",
    "            for i in range(entries):\n",
    "                if np.linalg.norm(normal[i]) <= self.normal_threshold:\n",
    "                    indices.append(i)\n",
    "        \n",
    "        elif self.method == 'angle_between_normals':\n",
    "            self.angles = []\n",
    "            for i in range(entries):\n",
    "                angle = np.arccos(np.dot(self.vertical_vector, normal[i]))\n",
    "                self.angles.append(angle)\n",
    "                angle_threshold = self.normal_threshold * np.pi/180\n",
    "                if (angle <= np.pi/2 and angle >= angle_threshold):\n",
    "                    indices.append(i)\n",
    "                elif (angle > np.pi/2 and (np.pi - angle) >= angle_threshold):\n",
    "                    indices.append(i)\n",
    "        return indices \n",
    "\n",
    "    def difference_of_normals(self):\n",
    "    \n",
    "        #Estimate normals for small search radius\n",
    "        self.pcd_small.estimate_normals(search_param=o3d.geometry.KDTreeSearchParamRadius(radius = self.search_radius_small))\n",
    "        Normals_radius_small = np.copy(np.asarray(self.pcd_small.normals))\n",
    "\n",
    "        # Invalidate the normals obtained using search_radius_small\n",
    "        #self.pcd_small.normals = o3d.utility.Vector3dVector(np.zeros((np.shape(Normals_radius_small)[0], 3)))\n",
    "\n",
    "        # Estimate normal using search_radius_large\n",
    "        self.pcd_large.estimate_normals(search_param=o3d.geometry.KDTreeSearchParamRadius(radius = self.search_radius_large))\n",
    "        Normals_radius_large = np.copy(np.asarray(self.pcd_large.normals))\n",
    "\n",
    "        # Invalidate the normals obtained using search_radius_small\n",
    "        #self.pcd_large.normals = o3d.utility.Vector3dVector(np.zeros((np.shape(Normals_radius_large)[0], 3)))\n",
    "\n",
    "        don = np.zeros(np.shape(Normals_radius_large))\n",
    "        for i in range(np.shape(don)[0]):\n",
    "            don[i] = np.abs((self.unit_vector(Normals_radius_large[i]) - self.unit_vector(Normals_radius_small[i]))) * 0.5\n",
    "\n",
    "        return don  "
   ]
  },
  {
   "cell_type": "code",
   "execution_count": 16,
   "metadata": {},
   "outputs": [],
   "source": [
    "pcd_down_copy = o3d.geometry.PointCloud()\n",
    "pcd_down_copy.points = o3d.utility.Vector3dVector(np.asarray(pcd_down.points))\n",
    "\n",
    "ground = Ground_Filter(pcd_down_copy, 0.1, 1, 0.1, method = 'difference_of_normals')\n",
    "don = ground.difference_of_normals()\n",
    "indices = ground.get_indices(don)\n"
   ]
  },
  {
   "cell_type": "code",
   "execution_count": 7,
   "metadata": {},
   "outputs": [
    {
     "data": {
      "text/plain": [
       "4765410"
      ]
     },
     "execution_count": 7,
     "metadata": {},
     "output_type": "execute_result"
    }
   ],
   "source": []
  },
  {
   "cell_type": "code",
   "execution_count": 8,
   "metadata": {},
   "outputs": [],
   "source": [
    "pcd_down_test = o3d.geometry.PointCloud()\n",
    "pcd_down_test = pcd_down.select_by_index(indices)\n",
    "pcd_down_test.normals = o3d.utility.Vector3dVector(don)\n",
    "o3d.visualization.draw_geometries([pcd_down_test])"
   ]
  },
  {
   "cell_type": "code",
   "execution_count": 17,
   "metadata": {},
   "outputs": [],
   "source": [
    "don_mag = []\n",
    "for i in range(np.shape(don)[0]):\n",
    "    don_mag.append(np.linalg.norm(don[i]))\n",
    "\n",
    "don_mag = np.asarray(don_mag)\n",
    "max_mag = don_mag.max()\n",
    "\n",
    "colors = plt.get_cmap(\"jet\")(don_mag)\n",
    "pcd_down.colors = o3d.utility.Vector3dVector(colors[:, :3])\n",
    "pcd_down.normals = o3d.utility.Vector3dVector(don)\n",
    "o3d.visualization.draw_geometries([pcd_down])\n"
   ]
  },
  {
   "cell_type": "code",
   "execution_count": 15,
   "metadata": {},
   "outputs": [
    {
     "data": {
      "image/png": "[encoded data removed]",
      "text/html": [
       "<div style=\"vertical-align: middle;\"><strong>jet</strong> </div><div class=\"cmap\"><img alt=\"jet colormap\" title=\"jet\" style=\"border: 1px solid #555;\" src=\"data:image/png;base64,iVBORw0KGgoAAAANSUhEUgAAAgAAAABACAYAAABsv8+/AAAAEnRFWHRUaXRsZQBqZXQgY29sb3JtYXBCuQ5RAAAAGHRFWHREZXNjcmlwdGlvbgBqZXQgY29sb3JtYXBOkXwLAAAAMHRFWHRBdXRob3IATWF0cGxvdGxpYiB2My41LjIsIGh0dHBzOi8vbWF0cGxvdGxpYi5vcmfCWnicAAAAMnRFWHRTb2Z0d2FyZQBNYXRwbG90bGliIHYzLjUuMiwgaHR0cHM6Ly9tYXRwbG90bGliLm9yZ+z857sAAAGcSURBVHic7dbLTgJBEEDR4uF3++GCuqDHREx04RPvOZtKTUNnEljc3cz908zMzN1lzHG+dv8r9+7mXUfztub62x5Pa55nZma/5uFlXs6Pb56veVhz1udm26/nZ8//6z23+b7b/uE957Wftvm45qzzy9ytfbZ5vto/ev7T3/vr9/3yezytuX72edj209W+nc/refri/bvu3Q8AkCMAACBIAABAkAAAgCABAABBAgAAggQAAAQJAAAIEgAAECQAACBIAABAkAAAgCABAABBAgAAggQAAAQJAAAIEgAAECQAACBIAABAkAAAgCABAABBAgAAggQAAAQJAAAIEgAAECQAACBIAABAkAAAgCABAABBAgAAggQAAAQJAAAIEgAAECQAACBIAABAkAAAgCABAABBAgAAggQAAAQJAAAIEgAAECQAACBIAABAkAAAgCABAABBAgAAggQAAAQJAAAIEgAAECQAACBIAABAkAAAgCABAABBAgAAggQAAAQJAAAIEgAAECQAACBIAABAkAAAgCABAABBAgAAggQAAAQ9AzXZs/6J5AA/AAAAAElFTkSuQmCC\"></div><div style=\"vertical-align: middle; max-width: 514px; display: flex; justify-content: space-between;\"><div style=\"float: left;\"><div title=\"#000080ff\" style=\"display: inline-block; width: 1em; height: 1em; margin: 0; vertical-align: middle; border: 1px solid #555; background-color: #000080ff;\"></div> under</div><div style=\"margin: 0 auto; display: inline-block;\">bad <div title=\"#00000000\" style=\"display: inline-block; width: 1em; height: 1em; margin: 0; vertical-align: middle; border: 1px solid #555; background-color: #00000000;\"></div></div><div style=\"float: right;\">over <div title=\"#800000ff\" style=\"display: inline-block; width: 1em; height: 1em; margin: 0; vertical-align: middle; border: 1px solid #555; background-color: #800000ff;\"></div></div>"
      ],
      "text/plain": [
       "<matplotlib.colors.LinearSegmentedColormap at 0x7f457c23fc40>"
      ]
     },
     "execution_count": 15,
     "metadata": {},
     "output_type": "execute_result"
    }
   ],
   "source": [
    "plt.get_cmap(\"jet\")"
   ]
  },
  {
   "cell_type": "code",
   "execution_count": 9,
   "metadata": {},
   "outputs": [],
   "source": [
    "pcd1 = pcd_down.select_by_index(indices)\n",
    "pcd2 = pcd_down.select_by_index(indices, invert=True)\n",
    "pcd1.paint_uniform_color([1, 0, 0])\n",
    "pcd2.paint_uniform_color([0, 1, 0])\n",
    "o3d.visualization.draw_geometries([pcd1])\n",
    "o3d.visualization.draw_geometries([pcd2])"
   ]
  },
  {
   "attachments": {},
   "cell_type": "markdown",
   "metadata": {},
   "source": [
    "## RANSAC + DBSCAN Clustering"
   ]
  },
  {
   "cell_type": "code",
   "execution_count": null,
   "metadata": {},
   "outputs": [],
   "source": [
    "# Segmentation on Raw point cloud data\n",
    "\n",
    "plane_model_raw, inliers_raw = pcd.segment_plane(distance_threshold = 1, ransac_n = 3, num_iterations = 2000)\n",
    "\n",
    "inlier_cloud_raw = pcd.select_by_index(inliers_raw)\n",
    "inlier_cloud_raw.paint_uniform_color([1, 0, 0])\n",
    "\n",
    "outlier_cloud_raw = pcd.select_by_index(inliers_raw, invert=True)\n",
    "outlier_cloud_raw.paint_uniform_color([0.6, 0.6, 0.6])"
   ]
  },
  {
   "cell_type": "code",
   "execution_count": null,
   "metadata": {},
   "outputs": [],
   "source": [
    "# Segmentation on downsampled point cloud data\n",
    "\n",
    "plane_model_down_sampled, inliers_down_sampled = pcd_down.segment_plane(distance_threshold = 0.1, ransac_n = 10, num_iterations = 5000)\n",
    "\n",
    "inlier_cloud_down_sampled = pcd_down.select_by_index(inliers_down_sampled)\n",
    "inlier_cloud_down_sampled.paint_uniform_color([1, 0, 0])\n",
    "\n",
    "outlier_cloud_down_sampled = pcd_down.select_by_index(inliers_down_sampled, invert=True)\n",
    "outlier_cloud_down_sampled.paint_uniform_color([0.6, 0.6, 0.6])"
   ]
  },
  {
   "cell_type": "code",
   "execution_count": null,
   "metadata": {},
   "outputs": [],
   "source": [
    "o3d.visualization.draw_geometries([inlier_cloud_down_sampled, outlier_cloud_down_sampled])"
   ]
  },
  {
   "cell_type": "code",
   "execution_count": null,
   "metadata": {},
   "outputs": [],
   "source": [
    "o3d.visualization.draw_geometries([inlier_cloud_down_sampled])"
   ]
  },
  {
   "cell_type": "code",
   "execution_count": null,
   "metadata": {},
   "outputs": [],
   "source": [
    "o3d.visualization.draw_geometries([outlier_cloud_down_sampled])"
   ]
  },
  {
   "cell_type": "code",
   "execution_count": null,
   "metadata": {},
   "outputs": [],
   "source": [
    "# Implementing DBSCAN using open3d\n",
    "#labels = np.array(outlier_cloud_down_sampled.cluster_dbscan(eps = 0.7, min_points = 7))\n",
    "# clustering directly on raw point cloud data\n",
    "labels = np.array(pcd_down.cluster_dbscan(eps = 0.7, min_points = 7))      \n",
    "# eps = 0.05 means we use a radius of 5 cm for growing clusters and growing if we have atleast 10 points\n",
    "\n",
    "max_label = labels.max()\n",
    "colors = plt.get_cmap(\"tab20\")(labels/(max_label if max_label > 0 else 1))\n",
    "colors[labels < 0] = 0\n",
    "pcd_down.colors = o3d.utility.Vector3dVector(colors[:, :3])\n",
    "o3d.visualization.draw_geometries([pcd_down])"
   ]
  },
  {
   "cell_type": "code",
   "execution_count": null,
   "metadata": {},
   "outputs": [],
   "source": [
    "print(f\"point cloud has {max_label + 1} clusters\")"
   ]
  },
  {
   "cell_type": "code",
   "execution_count": null,
   "metadata": {},
   "outputs": [],
   "source": [
    "np.min(pcd_down.compute_nearest_neighbor_distance())"
   ]
  },
  {
   "cell_type": "code",
   "execution_count": null,
   "metadata": {},
   "outputs": [],
   "source": [
    "segment_models = {}\n",
    "segments = {}\n",
    "\n",
    "max_plane_id = 20\n",
    "\n",
    "rest = pcd_new"
   ]
  },
  {
   "cell_type": "code",
   "execution_count": null,
   "metadata": {},
   "outputs": [],
   "source": [
    "for i in range(max_plane_id):\n",
    "    colors = plt.get_cmap(\"tab20\")(i)\n",
    "    segment_models[i], inliers_segment = rest.segment_plane(distance_threshold = 0.1, ransac_n = 3, num_iterations=1000)\n",
    "    segments[i] = rest.select_by_index(inliers_segment)\n",
    "\n",
    "    segments[i].paint_uniform_color(list(colors[:3]))\n",
    "    rest = rest.select_by_index(inliers_segment, invert = True)\n",
    "    print(\"pass\", i, \"/\", max_plane_id, \"done\")"
   ]
  },
  {
   "cell_type": "code",
   "execution_count": null,
   "metadata": {},
   "outputs": [],
   "source": [
    "o3d.visualization.draw_geometries([segments[i] for i in range(max_plane_id)] + [rest])"
   ]
  },
  {
   "attachments": {},
   "cell_type": "markdown",
   "metadata": {},
   "source": [
    "## Cloth Simulation Function"
   ]
  },
  {
   "attachments": {},
   "cell_type": "markdown",
   "metadata": {},
   "source": [
    "Turn the point cloud data upside down and put a cloth on it. Intersection points are the ground points. \n",
    "\n",
    "\n",
    "* The movement of a particle in the cloth is constrained to be in vertical direction, so the collision detection can be implemented by comparing the height values of the particle and the terrain(eg: when the position of the particle is **below or equal** to the terrain, the particle intersects with the terrain).\n",
    "\n",
    "* When theparticle reaches the **\"Right Position\"**, i.e., the ground, this particle is set as unmovable.\n",
    "\n",
    "* The forces are divided into two discrete steps to achieve simplicity and relatively high performance. Position of the particle is determined by the net force (External + internal). Here we compute the displacement due to gravity(the particle is set unmovable when it reaches the ground, so the collision force can be omitted) and then modify the position of this particle according to the internal forces"
   ]
  },
  {
   "cell_type": "code",
   "execution_count": null,
   "metadata": {},
   "outputs": [],
   "source": [
    "# Invert the point cloud\n",
    "R = np.array([[1, 0, 0], [0, 1, 0], [0, 0, -1]])  # Finding image about xy plane\n",
    "inverted_pcd = pcd_down.rotate(R)\n",
    "\n",
    "# Get bounds on point cloud data(min-max x and y coordinates to get the xy plane)\n",
    "x_min       = np.min(np.asarray(inverted_pcd.points)[:, 0])\n",
    "x_max       = np.max(np.asarray(inverted_pcd.points)[:, 0])\n",
    "y_min       = np.min(np.asarray(inverted_pcd.points)[:, 1])\n",
    "y_max       = np.max(np.asarray(inverted_pcd.points)[:, 1])\n",
    "z_initial   = np.min(np.asarray(inverted_pcd.points)[:, 2]) + 10  # Heigt from which the cloth will be droped"
   ]
  },
  {
   "cell_type": "code",
   "execution_count": null,
   "metadata": {},
   "outputs": [],
   "source": []
  },
  {
   "attachments": {},
   "cell_type": "markdown",
   "metadata": {},
   "source": [
    "## Identifying Ground in Point cloud Data\n",
    "\n",
    "1) Will try to make a ball of radius r at each point and check if there is a point below that, if not will collect those points otherwise move on to the next point. Will be doing this iteratively on all points. Will only check on those points which have not been identified, i.e., the points with min z value in the ball.\n",
    "    - Issue here is if there is jsut a single point at that (x y) even though z is large, it will map it as a boundary point. So won't work\n",
    "2) Another method would be getting surface normals and identifying the normal vectors that can form supporting planes to the point cloud data set\n",
    "    - Only valid for convex set, as there may be some points that may not be able to separate , eg, crator\n"
   ]
  },
  {
   "cell_type": "code",
   "execution_count": null,
   "metadata": {},
   "outputs": [],
   "source": [
    "# returns a list of indexs of points inside the ball\n",
    "def Ball_r(arr, pcd, rad):\n",
    "    x = arr[0]\n",
    "    y = arr[1]\n",
    "    z = arr[2]\n",
    "\n",
    "    index = np.where()\n"
   ]
  },
  {
   "cell_type": "code",
   "execution_count": null,
   "metadata": {},
   "outputs": [],
   "source": [
    "\n",
    "data_ground = []\n",
    "\n",
    "for i in range(np.shape(pcd_down.points)[0]):\n",
    "    if not data_ground or pcd_down.points[i] in data_ground:\n",
    "        pass\n",
    "    else:\n",
    "        data_ground = pcd_down.points[Ball_r(pcd_down.points[i], pcd_down, 5)]"
   ]
  },
  {
   "attachments": {},
   "cell_type": "markdown",
   "metadata": {},
   "source": [
    "## Creating Triangular mesh from point cloud"
   ]
  },
  {
   "cell_type": "code",
   "execution_count": null,
   "metadata": {},
   "outputs": [],
   "source": [
    "mesh = o3d.geometry.TriangleMesh.create_from_point_cloud_alpha_shape(pcd_down, alpha = 1.5)\n",
    "mesh.compute_vertex_normals()\n",
    "o3d.visualization.draw([mesh])"
   ]
  },
  {
   "cell_type": "code",
   "execution_count": null,
   "metadata": {},
   "outputs": [],
   "source": []
  },
  {
   "attachments": {},
   "cell_type": "markdown",
   "metadata": {},
   "source": [
    "## Convex Hull"
   ]
  },
  {
   "cell_type": "code",
   "execution_count": null,
   "metadata": {},
   "outputs": [],
   "source": [
    "hull, _ = pcd_new.compute_convex_hull()\n",
    "\n",
    "hull_ls = o3d.geometry.LineSet.create_from_triangle_mesh(hull)\n",
    "hull_ls.paint_uniform_color((1, 0, 0))\n",
    "o3d.visualization.draw([pcd_new, hull_ls])"
   ]
  },
  {
   "attachments": {},
   "cell_type": "markdown",
   "metadata": {},
   "source": [
    "## Instance Segmentation"
   ]
  },
  {
   "cell_type": "code",
   "execution_count": null,
   "metadata": {},
   "outputs": [],
   "source": []
  }
 ],
 "metadata": {
  "kernelspec": {
   "display_name": "vision",
   "language": "python",
   "name": "python3"
  },
  "language_info": {
   "codemirror_mode": {
    "name": "ipython",
    "version": 3
   },
   "file_extension": ".py",
   "mimetype": "text/x-python",
   "name": "python",
   "nbconvert_exporter": "python",
   "pygments_lexer": "ipython3",
   "version": "3.10.9"
  },
  "vscode": {
   "interpreter": {
    "hash": "059c4ba2d8e9a9db9e9c7fe7bc3dfde9f690dcaafd2650224f2b5ae87609bca8"
   }
  }
 },
 "nbformat": 4,
 "nbformat_minor": 2
}

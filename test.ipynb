{
 "cells": [
  {
   "cell_type": "code",
   "execution_count": 1,
   "metadata": {},
   "outputs": [
    {
     "name": "stdout",
     "output_type": "stream",
     "text": [
      "Jupyter environment detected. Enabling Open3D WebVisualizer.\n",
      "[Open3D INFO] WebRTC GUI backend enabled.\n",
      "[Open3D INFO] WebRTCWindowSystem: HTTP handshake server disabled.\n"
     ]
    }
   ],
   "source": [
    "import os\n",
    "import sys\n",
    "sys.path.append('C:\\\\Users\\\\tiwar\\\\Desktop\\\\Project\\\\ACL_Thesis\\\\Thesis\\\\point_cloud_filtering\\\\Utilities')\n",
    "\n",
    "import open3d as o3d\n",
    "from Utilities import csf, cloth, particle, rasterization, point_cloud\n",
    "import numpy as np\n",
    "import matplotlib.pyplot as plt"
   ]
  },
  {
   "cell_type": "code",
   "execution_count": 10,
   "metadata": {},
   "outputs": [
    {
     "name": "stdout",
     "output_type": "stream",
     "text": [
      "working directory c:\\Users\\tiwar\\Desktop\\Project\\ACL_Thesis\\Thesis\\point_cloud_filtering\n",
      ">>>>>>>> DATA set directory.....\n",
      " c:\\Users\\tiwar\\Desktop\\Project\\ACL_Thesis\\Thesis\\point_cloud_filtering\\..\\..\\Datasets\\Town01\\generated\\frames\\frame_4999.ply\n"
     ]
    }
   ],
   "source": [
    "wd = os.getcwd()\n",
    "print(\"working directory\", wd)\n",
    "dataset_dir = wd + '\\\\..\\\\..\\\\Datasets\\\\Town01\\\\generated\\\\frames\\\\frame_4999.ply'      # WINDOWS\n",
    "print(\">>>>>>>> DATA set directory.....\\n\", dataset_dir)"
   ]
  },
  {
   "cell_type": "code",
   "execution_count": 11,
   "metadata": {},
   "outputs": [],
   "source": [
    "pcd = o3d.io.read_point_cloud(dataset_dir)\n",
    "o3d.visualization.draw_geometries([pcd])"
   ]
  }
 ],
 "metadata": {
  "kernelspec": {
   "display_name": "vision",
   "language": "python",
   "name": "python3"
  },
  "language_info": {
   "codemirror_mode": {
    "name": "ipython",
    "version": 3
   },
   "file_extension": ".py",
   "mimetype": "text/x-python",
   "name": "python",
   "nbconvert_exporter": "python",
   "pygments_lexer": "ipython3",
   "version": "3.10.9"
  },
  "orig_nbformat": 4
 },
 "nbformat": 4,
 "nbformat_minor": 2
}
